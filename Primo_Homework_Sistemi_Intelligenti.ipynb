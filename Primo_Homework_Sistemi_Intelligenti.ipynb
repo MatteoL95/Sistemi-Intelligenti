{
  "nbformat": 4,
  "nbformat_minor": 0,
  "metadata": {
    "colab": {
      "name": "Primo Homework Sistemi Intelligenti.ipynb",
      "provenance": [],
      "collapsed_sections": []
    },
    "kernelspec": {
      "name": "python3",
      "display_name": "Python 3"
    },
    "language_info": {
      "name": "python"
    }
  },
  "cells": [
    {
      "cell_type": "markdown",
      "metadata": {
        "id": "adYFVKQ2XXVD"
      },
      "source": [
        "##<b>_Import_"
      ]
    },
    {
      "cell_type": "code",
      "metadata": {
        "id": "8dTFBK1HXX2O"
      },
      "source": [
        "import pandas as pd\n",
        "import numpy as np\n",
        "import matplotlib as mpl\n",
        "import matplotlib.pyplot as plt"
      ],
      "execution_count": 6,
      "outputs": []
    },
    {
      "cell_type": "markdown",
      "metadata": {
        "id": "xrog3cOlgiMM"
      },
      "source": [
        "##<b>_Linear Regression_"
      ]
    },
    {
      "cell_type": "markdown",
      "metadata": {
        "id": "XNv-Rp1kSU6b"
      },
      "source": [
        "<b>_Cost Function_</b> for linear regression"
      ]
    },
    {
      "cell_type": "code",
      "metadata": {
        "id": "27sSgRfXSK2Y"
      },
      "source": [
        "def costFunction(X, y, theta, lambda_):\n",
        "  m = len(y)\n",
        "  prediction = np.matmul(X, theta)\n",
        "  error = prediction - y\n",
        "  reg_term = (lambda_ / 2 * m) * np.sum((np.square(theta)))\n",
        "  J = 1 / (2 * m) * np.matmul(error, error) + reg_term\n",
        "  return J"
      ],
      "execution_count": 17,
      "outputs": []
    },
    {
      "cell_type": "markdown",
      "metadata": {
        "id": "K4Mjk3NDf3tt"
      },
      "source": [
        "<b>_Gradient Descent_\n"
      ]
    },
    {
      "cell_type": "code",
      "metadata": {
        "id": "dwns8Z8Zf95_"
      },
      "source": [
        "def gradientDescent(X, y, theta, alpha, iterations, lambda_):\n",
        "  m = len(y)\n",
        "  J_history = []\n",
        "  #theta_history = np.zeros((iterations, 2))\n",
        "  for i in range (iterations):\n",
        "    h = np.matmul(X, theta) - y\n",
        "    theta = theta - alpha / m * np.matmul(X.transpose(), h)\n",
        "    #theta_history[i, :] = theta.T\n",
        "    J_history.append(costFunction(X, y, theta, lambda_))\n",
        "  #return theta, J_history, theta_history\n",
        "  return theta, J_history"
      ],
      "execution_count": 18,
      "outputs": []
    },
    {
      "cell_type": "markdown",
      "metadata": {
        "id": "U8J-d58XgAcv"
      },
      "source": [
        "<b>_Open .csv and data refactoring_</b>\n",
        "- GP = 1, MS = 0;\n",
        "- F = 1, M = 0\n",
        "- U = 1, R = 0;\n",
        "- LE3 = 1, GT3 = 0;\n",
        "- T = 1, A = 0;\n",
        "- yes = 1, no = 0;\n",
        "- job ->\"other\" = 0, \"at_home\" = 1,  \"teacher\" = 2, \"health\" = 3 care related, civil \"services\" = 4;\n",
        "- reason -> \"other\" = 0, close to \"home\" = 1, school \"reputation\" = 2, \"course\" preference = 3;\n",
        "- guardian -> \"other\" = 0, \"father\" = 1, \"mother\" = 2;"
      ]
    },
    {
      "cell_type": "code",
      "metadata": {
        "id": "no5zWMgNgHI9"
      },
      "source": [
        "df = pd.read_csv('student-mat.csv', delimiter=';');\n",
        "\n",
        "df.school[df.school == 'GP'] = 1\n",
        "df.school[df.school == 'MS'] = 0\n",
        "\n",
        "df.sex[df.sex == 'F'] = 1\n",
        "df.sex[df.sex == 'M'] = 0\n",
        "\n",
        "df.address[df.address == 'U'] = 1\n",
        "df.address[df.address == 'R'] = 0\n",
        "\n",
        "df.famsize[df.famsize == 'LE3'] = 1\n",
        "df.famsize[df.famsize == 'GT3'] = 0\n",
        "\n",
        "df.Pstatus[df.Pstatus == 'T'] = 1\n",
        "df.Pstatus[df.Pstatus == 'A'] = 0\n",
        "\n",
        "df.Mjob[df.Mjob == 'other'] = 0\n",
        "df.Mjob[df.Mjob == 'at_home'] = 1\n",
        "df.Mjob[df.Mjob == 'teacher'] = 2\n",
        "df.Mjob[df.Mjob == 'health'] = 3\n",
        "df.Mjob[df.Mjob == 'services'] = 4\n",
        "\n",
        "df.Fjob[df.Fjob == 'other'] = 0\n",
        "df.Fjob[df.Fjob == 'at_home'] = 1\n",
        "df.Fjob[df.Fjob == 'teacher'] = 2\n",
        "df.Fjob[df.Fjob == 'health'] = 3\n",
        "df.Fjob[df.Fjob == 'services'] = 4\n",
        "\n",
        "df.reason[df.reason == 'other'] = 0\n",
        "df.reason[df.reason == 'home'] = 1\n",
        "df.reason[df.reason == 'reputation'] = 2\n",
        "df.reason[df.reason == 'course'] = 3\n",
        "\n",
        "df.guardian[df.guardian == 'other'] = 0\n",
        "df.guardian[df.guardian == 'father'] = 1\n",
        "df.guardian[df.guardian == 'mother'] = 2\n",
        "\n",
        "df.schoolsup[df.schoolsup == 'yes'] = 1\n",
        "df.schoolsup[df.schoolsup == 'no'] = 0\n",
        "\n",
        "df.famsup[df.famsup == 'yes'] = 1\n",
        "df.famsup[df.famsup == 'no'] = 0\n",
        "\n",
        "df.paid[df.paid == 'yes'] = 1\n",
        "df.paid[df.paid == 'no'] = 0\n",
        "\n",
        "df.activities[df.activities == 'yes'] = 1\n",
        "df.activities[df.activities == 'no'] = 0\n",
        "\n",
        "df.nursery[df.nursery == 'yes'] = 1\n",
        "df.nursery[df.nursery == 'no'] = 0\n",
        "\n",
        "df.higher[df.higher == 'yes'] = 1\n",
        "df.higher[df.higher == 'no'] = 0\n",
        "\n",
        "df.internet[df.internet == 'yes'] = 1\n",
        "df.internet[df.internet == 'no'] = 0\n",
        "\n",
        "df.romantic[df.romantic == 'yes'] = 1\n",
        "df.romantic[df.romantic == 'no'] = 0\n",
        "\n",
        "#print(df.to_string())"
      ],
      "execution_count": null,
      "outputs": []
    },
    {
      "cell_type": "markdown",
      "metadata": {
        "id": "O333xeylVP4z"
      },
      "source": [
        "<b>_Regressione Lineare_"
      ]
    },
    {
      "cell_type": "code",
      "metadata": {
        "id": "L81aQqRDVQrg",
        "colab": {
          "base_uri": "https://localhost:8080/",
          "height": 279
        },
        "outputId": "58d80405-cbe2-41d9-b77a-38e2b032283c"
      },
      "source": [
        "y = df['G3']\n",
        "X = df.drop(['G3'], axis = 1)\n",
        "\n",
        "x1New = X.iloc[:, 5] + X.iloc[:, 6]\n",
        "x2New = X.iloc[:, 7] + X.iloc[:, 8]\n",
        "\n",
        "X['x1New'] = x1New\n",
        "X['x2New'] = x2New\n",
        "\n",
        "X = df.to_numpy()\n",
        "y = y.to_numpy().transpose()\n",
        "\n",
        "m = X.shape[0]\n",
        "n = X.shape[1]\n",
        "\n",
        "mu = X.mean(0) \n",
        "sigma = X.max(0) - X.min(0)\n",
        "diff = np.subtract(X, mu)\n",
        "X_norm = diff / sigma\n",
        "\n",
        "X_0 = np.hstack((np.ones((m, 1)), X_norm))\n",
        "\n",
        "alpha = 0.01\n",
        "iterations = 500\n",
        "#theta_init = np.zeros((n, 1))\n",
        "theta_init = np.zeros((n+1))\n",
        "theta, J_history = gradientDescent(X_0, y, theta_init, alpha, iterations, 0.0001)\n",
        "\n",
        "# Plot the convergence graph\n",
        "plt.plot(np.arange(iterations), J_history, 'b', LineWidth=3)\n",
        "plt.xlabel('Number of iterations')\n",
        "plt.ylabel('Cost J')\n",
        "plt.show()"
      ],
      "execution_count": 19,
      "outputs": [
        {
          "output_type": "display_data",
          "data": {
            "image/png": "[encoded data removed]",
            "text/plain": [
              "<Figure size 432x288 with 1 Axes>"
            ]
          },
          "metadata": {
            "needs_background": "light"
          }
        }
      ]
    },
    {
      "cell_type": "code",
      "metadata": {
        "id": "HL-3QPw-KFXv"
      },
      "source": [
        "X.head()"
      ],
      "execution_count": null,
      "outputs": []
    },
    {
      "cell_type": "markdown",
      "metadata": {
        "id": "2TT3COCtgJ49"
      },
      "source": [
        "<hr>"
      ]
    }
  ]
}